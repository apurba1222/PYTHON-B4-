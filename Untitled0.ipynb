{
  "nbformat": 4,
  "nbformat_minor": 0,
  "metadata": {
    "colab": {
      "provenance": [],
      "authorship_tag": "ABX9TyPIE4ZJIuG86Odz0pnpuITA",
      "include_colab_link": true
    },
    "kernelspec": {
      "name": "python3",
      "display_name": "Python 3"
    },
    "language_info": {
      "name": "python"
    }
  },
  "cells": [
    {
      "cell_type": "markdown",
      "metadata": {
        "id": "view-in-github",
        "colab_type": "text"
      },
      "source": [
        "<a href=\"https://colab.research.google.com/github/apurba1222/PYTHON-B4-/blob/main/Untitled0.ipynb\" target=\"_parent\"><img src=\"https://colab.research.google.com/assets/colab-badge.svg\" alt=\"Open In Colab\"/></a>"
      ]
    },
    {
      "cell_type": "code",
      "execution_count": 2,
      "metadata": {
        "id": "mYi4UgjRiB5t"
      },
      "outputs": [],
      "source": [
        "import pandas as pd\n",
        "\n",
        "import pandas as pd\n",
        "import matplotlib.pyplot as plt\n",
        "import seaborn as sns"
      ]
    },
    {
      "cell_type": "code",
      "source": [
        "data = pd.read_csv(\"/seattle-weather.csv\")\n",
        "print(data.head())"
      ],
      "metadata": {
        "colab": {
          "base_uri": "https://localhost:8080/"
        },
        "id": "ZAHriOwojM4_",
        "outputId": "f84cd1ea-b546-4cec-8fdd-8028e132d8ca"
      },
      "execution_count": 3,
      "outputs": [
        {
          "output_type": "stream",
          "name": "stdout",
          "text": [
            "         date  precipitation  temp_max  temp_min  wind  weather\n",
            "0  2012-01-01            0.0      12.8       5.0   4.7  drizzle\n",
            "1  2012-01-02           10.9      10.6       2.8   4.5     rain\n",
            "2  2012-01-03            0.8      11.7       7.2   2.3     rain\n",
            "3  2012-01-04           20.3      12.2       5.6   4.7     rain\n",
            "4  2012-01-05            1.3       8.9       2.8   6.1     rain\n"
          ]
        }
      ]
    }
  ]
}